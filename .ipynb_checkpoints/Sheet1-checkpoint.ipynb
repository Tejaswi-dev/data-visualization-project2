{
 "cells": [
  {
   "cell_type": "code",
   "execution_count": 1,
   "metadata": {},
   "outputs": [],
   "source": [
    "# skipping warnings.\n",
    "import warnings\n",
    "warnings.filterwarnings('ignore')"
   ]
  },
  {
   "cell_type": "code",
   "execution_count": 2,
   "metadata": {},
   "outputs": [],
   "source": [
    "#Importing the libraries\n",
    "import pandas as pd\n",
    "import numpy as np\n",
    "import seaborn as sns\n",
    "import matplotlib.pyplot as plt\n"
   ]
  },
  {
   "cell_type": "code",
   "execution_count": 3,
   "metadata": {},
   "outputs": [
    {
     "data": {
      "text/html": [
       "<div>\n",
       "<style scoped>\n",
       "    .dataframe tbody tr th:only-of-type {\n",
       "        vertical-align: middle;\n",
       "    }\n",
       "\n",
       "    .dataframe tbody tr th {\n",
       "        vertical-align: top;\n",
       "    }\n",
       "\n",
       "    .dataframe thead th {\n",
       "        text-align: right;\n",
       "    }\n",
       "</style>\n",
       "<table border=\"1\" class=\"dataframe\">\n",
       "  <thead>\n",
       "    <tr style=\"text-align: right;\">\n",
       "      <th></th>\n",
       "      <th>Date Made Public</th>\n",
       "      <th>Company</th>\n",
       "      <th>City</th>\n",
       "      <th>State</th>\n",
       "      <th>Type of breach</th>\n",
       "      <th>Type of organization</th>\n",
       "      <th>Total Records</th>\n",
       "      <th>Description of incident</th>\n",
       "      <th>Information Source</th>\n",
       "      <th>Source URL</th>\n",
       "      <th>Year of Breach</th>\n",
       "      <th>Latitude</th>\n",
       "      <th>Longitude</th>\n",
       "    </tr>\n",
       "  </thead>\n",
       "  <tbody>\n",
       "    <tr>\n",
       "      <th>0</th>\n",
       "      <td>October 21, 2009</td>\n",
       "      <td>Bullitt County Public Schools</td>\n",
       "      <td>Shepherdsville</td>\n",
       "      <td>Kentucky</td>\n",
       "      <td>DISC</td>\n",
       "      <td>EDU</td>\n",
       "      <td>676</td>\n",
       "      <td>A Bullitt County Public Schools \\n            ...</td>\n",
       "      <td>Dataloss DB</td>\n",
       "      <td>NaN</td>\n",
       "      <td>2009</td>\n",
       "      <td>37.988399</td>\n",
       "      <td>-85.715792</td>\n",
       "    </tr>\n",
       "    <tr>\n",
       "      <th>1</th>\n",
       "      <td>October 21, 2009</td>\n",
       "      <td>Roane State Community College</td>\n",
       "      <td>Harriman</td>\n",
       "      <td>Tennessee</td>\n",
       "      <td>PORT</td>\n",
       "      <td>EDU</td>\n",
       "      <td>14,783</td>\n",
       "      <td>Roane State Community College \\n            ha...</td>\n",
       "      <td>Dataloss DB</td>\n",
       "      <td>NaN</td>\n",
       "      <td>2009</td>\n",
       "      <td>35.933964</td>\n",
       "      <td>-84.552436</td>\n",
       "    </tr>\n",
       "    <tr>\n",
       "      <th>2</th>\n",
       "      <td>October 15, 2009</td>\n",
       "      <td>Halifax Health</td>\n",
       "      <td>Daytona Beach</td>\n",
       "      <td>Florida</td>\n",
       "      <td>PORT</td>\n",
       "      <td>MED</td>\n",
       "      <td>33,000</td>\n",
       "      <td>A laptop computer from a Halifax \\n           ...</td>\n",
       "      <td>Dataloss DB</td>\n",
       "      <td>NaN</td>\n",
       "      <td>2009</td>\n",
       "      <td>29.210815</td>\n",
       "      <td>-81.022833</td>\n",
       "    </tr>\n",
       "    <tr>\n",
       "      <th>3</th>\n",
       "      <td>October 4, 2009</td>\n",
       "      <td>Suffolk Community College</td>\n",
       "      <td>Selden</td>\n",
       "      <td>New York</td>\n",
       "      <td>DISC</td>\n",
       "      <td>EDU</td>\n",
       "      <td>300</td>\n",
       "      <td>Suffolk Community College has \\n            ag...</td>\n",
       "      <td>Dataloss DB</td>\n",
       "      <td>NaN</td>\n",
       "      <td>2009</td>\n",
       "      <td>40.866487</td>\n",
       "      <td>-73.035663</td>\n",
       "    </tr>\n",
       "    <tr>\n",
       "      <th>4</th>\n",
       "      <td>September 28, 2009</td>\n",
       "      <td>Penrose Hospital</td>\n",
       "      <td>Colorado Springs</td>\n",
       "      <td>Colorado</td>\n",
       "      <td>PHYS</td>\n",
       "      <td>MED</td>\n",
       "      <td>175</td>\n",
       "      <td>Officials at Penrose Hospital              bel...</td>\n",
       "      <td>Dataloss DB</td>\n",
       "      <td>NaN</td>\n",
       "      <td>2009</td>\n",
       "      <td>38.833882</td>\n",
       "      <td>-104.821363</td>\n",
       "    </tr>\n",
       "  </tbody>\n",
       "</table>\n",
       "</div>"
      ],
      "text/plain": [
       "     Date Made Public                         Company              City  \\\n",
       "0    October 21, 2009   Bullitt County Public Schools    Shepherdsville   \n",
       "1    October 21, 2009  Roane State Community College           Harriman   \n",
       "2    October 15, 2009                  Halifax Health     Daytona Beach   \n",
       "3     October 4, 2009       Suffolk Community College            Selden   \n",
       "4  September 28, 2009                Penrose Hospital  Colorado Springs   \n",
       "\n",
       "       State Type of breach Type of organization Total Records  \\\n",
       "0   Kentucky           DISC                  EDU           676   \n",
       "1  Tennessee           PORT                  EDU        14,783   \n",
       "2    Florida           PORT                  MED        33,000   \n",
       "3   New York           DISC                  EDU           300   \n",
       "4   Colorado           PHYS                  MED           175   \n",
       "\n",
       "                             Description of incident Information Source  \\\n",
       "0  A Bullitt County Public Schools \\n            ...        Dataloss DB   \n",
       "1  Roane State Community College \\n            ha...        Dataloss DB   \n",
       "2  A laptop computer from a Halifax \\n           ...        Dataloss DB   \n",
       "3  Suffolk Community College has \\n            ag...        Dataloss DB   \n",
       "4  Officials at Penrose Hospital              bel...        Dataloss DB   \n",
       "\n",
       "  Source URL  Year of Breach   Latitude   Longitude  \n",
       "0        NaN            2009  37.988399  -85.715792  \n",
       "1        NaN            2009  35.933964  -84.552436  \n",
       "2        NaN            2009  29.210815  -81.022833  \n",
       "3        NaN            2009  40.866487  -73.035663  \n",
       "4        NaN            2009  38.833882 -104.821363  "
      ]
     },
     "execution_count": 3,
     "metadata": {},
     "output_type": "execute_result"
    }
   ],
   "source": [
    "#We will see the military spending data of G20 Countries\n",
    "#we took the data from this site \"https://www.sipri.org/databases/milex\"\n",
    "#Among csv,excel and other file formates i took excel which is flexible for me,\n",
    "#based on your convenience you can use better one.\n",
    "\n",
    "data = pd.read_csv(\"Privacy_Rights_Clearinghouse-Data-Breaches-Export.csv\")\n",
    "data.head()"
   ]
  },
  {
   "cell_type": "code",
   "execution_count": 4,
   "metadata": {},
   "outputs": [
    {
     "data": {
      "text/html": [
       "<div>\n",
       "<style scoped>\n",
       "    .dataframe tbody tr th:only-of-type {\n",
       "        vertical-align: middle;\n",
       "    }\n",
       "\n",
       "    .dataframe tbody tr th {\n",
       "        vertical-align: top;\n",
       "    }\n",
       "\n",
       "    .dataframe thead th {\n",
       "        text-align: right;\n",
       "    }\n",
       "</style>\n",
       "<table border=\"1\" class=\"dataframe\">\n",
       "  <thead>\n",
       "    <tr style=\"text-align: right;\">\n",
       "      <th></th>\n",
       "      <th>Date Made Public</th>\n",
       "      <th>Company</th>\n",
       "      <th>City</th>\n",
       "      <th>State</th>\n",
       "      <th>Type of breach</th>\n",
       "      <th>Type of organization</th>\n",
       "      <th>Total Records</th>\n",
       "      <th>Description of incident</th>\n",
       "      <th>Year of Breach</th>\n",
       "      <th>Latitude</th>\n",
       "      <th>Longitude</th>\n",
       "    </tr>\n",
       "  </thead>\n",
       "  <tbody>\n",
       "    <tr>\n",
       "      <th>0</th>\n",
       "      <td>October 21, 2009</td>\n",
       "      <td>Bullitt County Public Schools</td>\n",
       "      <td>Shepherdsville</td>\n",
       "      <td>Kentucky</td>\n",
       "      <td>DISC</td>\n",
       "      <td>EDU</td>\n",
       "      <td>676</td>\n",
       "      <td>A Bullitt County Public Schools \\n            ...</td>\n",
       "      <td>2009</td>\n",
       "      <td>37.988399</td>\n",
       "      <td>-85.715792</td>\n",
       "    </tr>\n",
       "    <tr>\n",
       "      <th>1</th>\n",
       "      <td>October 21, 2009</td>\n",
       "      <td>Roane State Community College</td>\n",
       "      <td>Harriman</td>\n",
       "      <td>Tennessee</td>\n",
       "      <td>PORT</td>\n",
       "      <td>EDU</td>\n",
       "      <td>14,783</td>\n",
       "      <td>Roane State Community College \\n            ha...</td>\n",
       "      <td>2009</td>\n",
       "      <td>35.933964</td>\n",
       "      <td>-84.552436</td>\n",
       "    </tr>\n",
       "    <tr>\n",
       "      <th>2</th>\n",
       "      <td>October 15, 2009</td>\n",
       "      <td>Halifax Health</td>\n",
       "      <td>Daytona Beach</td>\n",
       "      <td>Florida</td>\n",
       "      <td>PORT</td>\n",
       "      <td>MED</td>\n",
       "      <td>33,000</td>\n",
       "      <td>A laptop computer from a Halifax \\n           ...</td>\n",
       "      <td>2009</td>\n",
       "      <td>29.210815</td>\n",
       "      <td>-81.022833</td>\n",
       "    </tr>\n",
       "    <tr>\n",
       "      <th>3</th>\n",
       "      <td>October 4, 2009</td>\n",
       "      <td>Suffolk Community College</td>\n",
       "      <td>Selden</td>\n",
       "      <td>New York</td>\n",
       "      <td>DISC</td>\n",
       "      <td>EDU</td>\n",
       "      <td>300</td>\n",
       "      <td>Suffolk Community College has \\n            ag...</td>\n",
       "      <td>2009</td>\n",
       "      <td>40.866487</td>\n",
       "      <td>-73.035663</td>\n",
       "    </tr>\n",
       "    <tr>\n",
       "      <th>4</th>\n",
       "      <td>September 28, 2009</td>\n",
       "      <td>Penrose Hospital</td>\n",
       "      <td>Colorado Springs</td>\n",
       "      <td>Colorado</td>\n",
       "      <td>PHYS</td>\n",
       "      <td>MED</td>\n",
       "      <td>175</td>\n",
       "      <td>Officials at Penrose Hospital              bel...</td>\n",
       "      <td>2009</td>\n",
       "      <td>38.833882</td>\n",
       "      <td>-104.821363</td>\n",
       "    </tr>\n",
       "  </tbody>\n",
       "</table>\n",
       "</div>"
      ],
      "text/plain": [
       "     Date Made Public                         Company              City  \\\n",
       "0    October 21, 2009   Bullitt County Public Schools    Shepherdsville   \n",
       "1    October 21, 2009  Roane State Community College           Harriman   \n",
       "2    October 15, 2009                  Halifax Health     Daytona Beach   \n",
       "3     October 4, 2009       Suffolk Community College            Selden   \n",
       "4  September 28, 2009                Penrose Hospital  Colorado Springs   \n",
       "\n",
       "       State Type of breach Type of organization Total Records  \\\n",
       "0   Kentucky           DISC                  EDU           676   \n",
       "1  Tennessee           PORT                  EDU        14,783   \n",
       "2    Florida           PORT                  MED        33,000   \n",
       "3   New York           DISC                  EDU           300   \n",
       "4   Colorado           PHYS                  MED           175   \n",
       "\n",
       "                             Description of incident  Year of Breach  \\\n",
       "0  A Bullitt County Public Schools \\n            ...            2009   \n",
       "1  Roane State Community College \\n            ha...            2009   \n",
       "2  A laptop computer from a Halifax \\n           ...            2009   \n",
       "3  Suffolk Community College has \\n            ag...            2009   \n",
       "4  Officials at Penrose Hospital              bel...            2009   \n",
       "\n",
       "    Latitude   Longitude  \n",
       "0  37.988399  -85.715792  \n",
       "1  35.933964  -84.552436  \n",
       "2  29.210815  -81.022833  \n",
       "3  40.866487  -73.035663  \n",
       "4  38.833882 -104.821363  "
      ]
     },
     "execution_count": 4,
     "metadata": {},
     "output_type": "execute_result"
    }
   ],
   "source": [
    "data1=data.drop(['Source URL','Information Source'], axis=1)\n",
    "data1.head()"
   ]
  },
  {
   "cell_type": "code",
   "execution_count": 5,
   "metadata": {},
   "outputs": [
    {
     "data": {
      "text/html": [
       "<div>\n",
       "<style scoped>\n",
       "    .dataframe tbody tr th:only-of-type {\n",
       "        vertical-align: middle;\n",
       "    }\n",
       "\n",
       "    .dataframe tbody tr th {\n",
       "        vertical-align: top;\n",
       "    }\n",
       "\n",
       "    .dataframe thead th {\n",
       "        text-align: right;\n",
       "    }\n",
       "</style>\n",
       "<table border=\"1\" class=\"dataframe\">\n",
       "  <thead>\n",
       "    <tr style=\"text-align: right;\">\n",
       "      <th></th>\n",
       "      <th>Date Made Public</th>\n",
       "      <th>Company</th>\n",
       "      <th>City</th>\n",
       "      <th>State</th>\n",
       "      <th>Type of breach</th>\n",
       "      <th>Type of organization</th>\n",
       "      <th>Total Records</th>\n",
       "      <th>Description of incident</th>\n",
       "      <th>Year of Breach</th>\n",
       "      <th>Latitude</th>\n",
       "      <th>Longitude</th>\n",
       "    </tr>\n",
       "  </thead>\n",
       "  <tbody>\n",
       "    <tr>\n",
       "      <th>0</th>\n",
       "      <td>October 21, 2009</td>\n",
       "      <td>Bullitt County Public Schools</td>\n",
       "      <td>Shepherdsville</td>\n",
       "      <td>Kentucky</td>\n",
       "      <td>DISC</td>\n",
       "      <td>EDU</td>\n",
       "      <td>676</td>\n",
       "      <td>A Bullitt County Public Schools \\n            ...</td>\n",
       "      <td>2009</td>\n",
       "      <td>37.988399</td>\n",
       "      <td>-85.715792</td>\n",
       "    </tr>\n",
       "    <tr>\n",
       "      <th>1</th>\n",
       "      <td>October 21, 2009</td>\n",
       "      <td>Roane State Community College</td>\n",
       "      <td>Harriman</td>\n",
       "      <td>Tennessee</td>\n",
       "      <td>PORT</td>\n",
       "      <td>EDU</td>\n",
       "      <td>14,783</td>\n",
       "      <td>Roane State Community College \\n            ha...</td>\n",
       "      <td>2009</td>\n",
       "      <td>35.933964</td>\n",
       "      <td>-84.552436</td>\n",
       "    </tr>\n",
       "    <tr>\n",
       "      <th>2</th>\n",
       "      <td>October 15, 2009</td>\n",
       "      <td>Halifax Health</td>\n",
       "      <td>Daytona Beach</td>\n",
       "      <td>Florida</td>\n",
       "      <td>PORT</td>\n",
       "      <td>MED</td>\n",
       "      <td>33,000</td>\n",
       "      <td>A laptop computer from a Halifax \\n           ...</td>\n",
       "      <td>2009</td>\n",
       "      <td>29.210815</td>\n",
       "      <td>-81.022833</td>\n",
       "    </tr>\n",
       "    <tr>\n",
       "      <th>3</th>\n",
       "      <td>October 4, 2009</td>\n",
       "      <td>Suffolk Community College</td>\n",
       "      <td>Selden</td>\n",
       "      <td>New York</td>\n",
       "      <td>DISC</td>\n",
       "      <td>EDU</td>\n",
       "      <td>300</td>\n",
       "      <td>Suffolk Community College has \\n            ag...</td>\n",
       "      <td>2009</td>\n",
       "      <td>40.866487</td>\n",
       "      <td>-73.035663</td>\n",
       "    </tr>\n",
       "    <tr>\n",
       "      <th>4</th>\n",
       "      <td>September 28, 2009</td>\n",
       "      <td>Penrose Hospital</td>\n",
       "      <td>Colorado Springs</td>\n",
       "      <td>Colorado</td>\n",
       "      <td>PHYS</td>\n",
       "      <td>MED</td>\n",
       "      <td>175</td>\n",
       "      <td>Officials at Penrose Hospital              bel...</td>\n",
       "      <td>2009</td>\n",
       "      <td>38.833882</td>\n",
       "      <td>-104.821363</td>\n",
       "    </tr>\n",
       "  </tbody>\n",
       "</table>\n",
       "</div>"
      ],
      "text/plain": [
       "     Date Made Public                         Company              City  \\\n",
       "0    October 21, 2009   Bullitt County Public Schools    Shepherdsville   \n",
       "1    October 21, 2009  Roane State Community College           Harriman   \n",
       "2    October 15, 2009                  Halifax Health     Daytona Beach   \n",
       "3     October 4, 2009       Suffolk Community College            Selden   \n",
       "4  September 28, 2009                Penrose Hospital  Colorado Springs   \n",
       "\n",
       "       State Type of breach Type of organization Total Records  \\\n",
       "0   Kentucky           DISC                  EDU           676   \n",
       "1  Tennessee           PORT                  EDU        14,783   \n",
       "2    Florida           PORT                  MED        33,000   \n",
       "3   New York           DISC                  EDU           300   \n",
       "4   Colorado           PHYS                  MED           175   \n",
       "\n",
       "                             Description of incident  Year of Breach  \\\n",
       "0  A Bullitt County Public Schools \\n            ...            2009   \n",
       "1  Roane State Community College \\n            ha...            2009   \n",
       "2  A laptop computer from a Halifax \\n           ...            2009   \n",
       "3  Suffolk Community College has \\n            ag...            2009   \n",
       "4  Officials at Penrose Hospital              bel...            2009   \n",
       "\n",
       "    Latitude   Longitude  \n",
       "0  37.988399  -85.715792  \n",
       "1  35.933964  -84.552436  \n",
       "2  29.210815  -81.022833  \n",
       "3  40.866487  -73.035663  \n",
       "4  38.833882 -104.821363  "
      ]
     },
     "execution_count": 5,
     "metadata": {},
     "output_type": "execute_result"
    }
   ],
   "source": [
    "data2= data1.dropna(axis = 0, how ='any') \n",
    "data2.head()"
   ]
  },
  {
   "cell_type": "code",
   "execution_count": 6,
   "metadata": {},
   "outputs": [
    {
     "data": {
      "text/plain": [
       "Date Made Public           0\n",
       "Company                    0\n",
       "City                       0\n",
       "State                      0\n",
       "Type of breach             0\n",
       "Type of organization       0\n",
       "Total Records              0\n",
       "Description of incident    0\n",
       "Year of Breach             0\n",
       "Latitude                   0\n",
       "Longitude                  0\n",
       "dtype: int64"
      ]
     },
     "execution_count": 6,
     "metadata": {},
     "output_type": "execute_result"
    }
   ],
   "source": [
    "#Checking  for  count of NA's\n",
    "data2.isna().sum()"
   ]
  },
  {
   "cell_type": "code",
   "execution_count": 7,
   "metadata": {},
   "outputs": [
    {
     "data": {
      "text/plain": [
       "Type of breach\n",
       "CARD      55\n",
       "DISC     761\n",
       "HACK    1602\n",
       "INSD     481\n",
       "PHYS     456\n",
       "dtype: int64"
      ]
     },
     "execution_count": 7,
     "metadata": {},
     "output_type": "execute_result"
    }
   ],
   "source": [
    "data2.groupby(\"Type of breach\").size().head()"
   ]
  },
  {
   "cell_type": "code",
   "execution_count": 8,
   "metadata": {},
   "outputs": [
    {
     "data": {
      "text/plain": [
       "Company\n",
       "Discover Financial Services         UNKNUNKNUNKNCARD\n",
       "Weather Shield                              UNKNUNKN\n",
       "Union Security Insurance Company            UNKNUNKN\n",
       "Health Net                                  UNKNPORT\n",
       "Netflix                                     UNKNINSD\n",
       "Name: Type of breach, dtype: object"
      ]
     },
     "execution_count": 8,
     "metadata": {},
     "output_type": "execute_result"
    }
   ],
   "source": [
    "breaches_by_group = data2.groupby(\"Company\")[\"Type of breach\"].sum().sort_values(ascending=False)\n",
    "breaches_by_group.head()"
   ]
  },
  {
   "cell_type": "code",
   "execution_count": 9,
   "metadata": {
    "scrolled": true
   },
   "outputs": [
    {
     "data": {
      "text/plain": [
       "<matplotlib.axes._subplots.AxesSubplot at 0x1a1fdf5320>"
      ]
     },
     "execution_count": 9,
     "metadata": {},
     "output_type": "execute_result"
    },
    {
     "data": {
      "image/png": "[encoded data removed]",
      "text/plain": [
       "<Figure size 432x288 with 2 Axes>"
      ]
     },
     "metadata": {
      "needs_background": "light"
     },
     "output_type": "display_data"
    }
   ],
   "source": [
    "sns.heatmap(data2.corr(),fmt = '.2f', center = 0,annot = True,cmap = 'vlag_r') \n"
   ]
  },
  {
   "cell_type": "code",
   "execution_count": 10,
   "metadata": {
    "scrolled": false
   },
   "outputs": [
    {
     "ename": "AttributeError",
     "evalue": "Unknown property data",
     "output_type": "error",
     "traceback": [
      "\u001b[0;31m---------------------------------------------------------------------------\u001b[0m",
      "\u001b[0;31mAttributeError\u001b[0m                            Traceback (most recent call last)",
      "\u001b[0;32m<ipython-input-10-e64cbf14d88c>\u001b[0m in \u001b[0;36m<module>\u001b[0;34m\u001b[0m\n\u001b[1;32m      3\u001b[0m \u001b[0mplt\u001b[0m\u001b[0;34m.\u001b[0m\u001b[0msubplots\u001b[0m\u001b[0;34m(\u001b[0m\u001b[0mfigsize\u001b[0m\u001b[0;34m=\u001b[0m\u001b[0;34m(\u001b[0m\u001b[0;36m14\u001b[0m\u001b[0;34m,\u001b[0m\u001b[0;36m7\u001b[0m\u001b[0;34m)\u001b[0m\u001b[0;34m)\u001b[0m\u001b[0;34m\u001b[0m\u001b[0;34m\u001b[0m\u001b[0m\n\u001b[1;32m      4\u001b[0m \u001b[0msns\u001b[0m\u001b[0;34m.\u001b[0m\u001b[0mcountplot\u001b[0m\u001b[0;34m(\u001b[0m\u001b[0;34m'Type of breach'\u001b[0m\u001b[0;34m,\u001b[0m\u001b[0mdata\u001b[0m\u001b[0;34m=\u001b[0m\u001b[0mdata2\u001b[0m\u001b[0;34m)\u001b[0m\u001b[0;34m\u001b[0m\u001b[0;34m\u001b[0m\u001b[0m\n\u001b[0;32m----> 5\u001b[0;31m \u001b[0mplt\u001b[0m\u001b[0;34m.\u001b[0m\u001b[0mxlabel\u001b[0m\u001b[0;34m(\u001b[0m\u001b[0;34m'Year of Breach'\u001b[0m\u001b[0;34m,\u001b[0m\u001b[0mdata\u001b[0m\u001b[0;34m=\u001b[0m\u001b[0mdata2\u001b[0m\u001b[0;34m)\u001b[0m\u001b[0;34m\u001b[0m\u001b[0;34m\u001b[0m\u001b[0m\n\u001b[0m\u001b[1;32m      6\u001b[0m \u001b[0mplt\u001b[0m\u001b[0;34m.\u001b[0m\u001b[0mtitle\u001b[0m\u001b[0;34m(\u001b[0m\u001b[0;34m'Total breaches by each year'\u001b[0m\u001b[0;34m)\u001b[0m\u001b[0;34m\u001b[0m\u001b[0;34m\u001b[0m\u001b[0m\n\u001b[1;32m      7\u001b[0m \u001b[0mplt\u001b[0m\u001b[0;34m.\u001b[0m\u001b[0mshow\u001b[0m\u001b[0;34m(\u001b[0m\u001b[0;34m)\u001b[0m\u001b[0;34m\u001b[0m\u001b[0;34m\u001b[0m\u001b[0m\n",
      "\u001b[0;32m~/anaconda3/lib/python3.7/site-packages/matplotlib/pyplot.py\u001b[0m in \u001b[0;36mxlabel\u001b[0;34m(xlabel, fontdict, labelpad, **kwargs)\u001b[0m\n\u001b[1;32m   3065\u001b[0m \u001b[0;32mdef\u001b[0m \u001b[0mxlabel\u001b[0m\u001b[0;34m(\u001b[0m\u001b[0mxlabel\u001b[0m\u001b[0;34m,\u001b[0m \u001b[0mfontdict\u001b[0m\u001b[0;34m=\u001b[0m\u001b[0;32mNone\u001b[0m\u001b[0;34m,\u001b[0m \u001b[0mlabelpad\u001b[0m\u001b[0;34m=\u001b[0m\u001b[0;32mNone\u001b[0m\u001b[0;34m,\u001b[0m \u001b[0;34m**\u001b[0m\u001b[0mkwargs\u001b[0m\u001b[0;34m)\u001b[0m\u001b[0;34m:\u001b[0m\u001b[0;34m\u001b[0m\u001b[0;34m\u001b[0m\u001b[0m\n\u001b[1;32m   3066\u001b[0m     return gca().set_xlabel(\n\u001b[0;32m-> 3067\u001b[0;31m         xlabel, fontdict=fontdict, labelpad=labelpad, **kwargs)\n\u001b[0m\u001b[1;32m   3068\u001b[0m \u001b[0;34m\u001b[0m\u001b[0m\n\u001b[1;32m   3069\u001b[0m \u001b[0;34m\u001b[0m\u001b[0m\n",
      "\u001b[0;32m~/anaconda3/lib/python3.7/site-packages/matplotlib/axes/_axes.py\u001b[0m in \u001b[0;36mset_xlabel\u001b[0;34m(self, xlabel, fontdict, labelpad, **kwargs)\u001b[0m\n\u001b[1;32m    263\u001b[0m         \u001b[0;32mif\u001b[0m \u001b[0mlabelpad\u001b[0m \u001b[0;32mis\u001b[0m \u001b[0;32mnot\u001b[0m \u001b[0;32mNone\u001b[0m\u001b[0;34m:\u001b[0m\u001b[0;34m\u001b[0m\u001b[0;34m\u001b[0m\u001b[0m\n\u001b[1;32m    264\u001b[0m             \u001b[0mself\u001b[0m\u001b[0;34m.\u001b[0m\u001b[0mxaxis\u001b[0m\u001b[0;34m.\u001b[0m\u001b[0mlabelpad\u001b[0m \u001b[0;34m=\u001b[0m \u001b[0mlabelpad\u001b[0m\u001b[0;34m\u001b[0m\u001b[0;34m\u001b[0m\u001b[0m\n\u001b[0;32m--> 265\u001b[0;31m         \u001b[0;32mreturn\u001b[0m \u001b[0mself\u001b[0m\u001b[0;34m.\u001b[0m\u001b[0mxaxis\u001b[0m\u001b[0;34m.\u001b[0m\u001b[0mset_label_text\u001b[0m\u001b[0;34m(\u001b[0m\u001b[0mxlabel\u001b[0m\u001b[0;34m,\u001b[0m \u001b[0mfontdict\u001b[0m\u001b[0;34m,\u001b[0m \u001b[0;34m**\u001b[0m\u001b[0mkwargs\u001b[0m\u001b[0;34m)\u001b[0m\u001b[0;34m\u001b[0m\u001b[0;34m\u001b[0m\u001b[0m\n\u001b[0m\u001b[1;32m    266\u001b[0m \u001b[0;34m\u001b[0m\u001b[0m\n\u001b[1;32m    267\u001b[0m     \u001b[0;32mdef\u001b[0m \u001b[0mget_ylabel\u001b[0m\u001b[0;34m(\u001b[0m\u001b[0mself\u001b[0m\u001b[0;34m)\u001b[0m\u001b[0;34m:\u001b[0m\u001b[0;34m\u001b[0m\u001b[0;34m\u001b[0m\u001b[0m\n",
      "\u001b[0;32m~/anaconda3/lib/python3.7/site-packages/matplotlib/axis.py\u001b[0m in \u001b[0;36mset_label_text\u001b[0;34m(self, label, fontdict, **kwargs)\u001b[0m\n\u001b[1;32m   1565\u001b[0m         \u001b[0;32mif\u001b[0m \u001b[0mfontdict\u001b[0m \u001b[0;32mis\u001b[0m \u001b[0;32mnot\u001b[0m \u001b[0;32mNone\u001b[0m\u001b[0;34m:\u001b[0m\u001b[0;34m\u001b[0m\u001b[0;34m\u001b[0m\u001b[0m\n\u001b[1;32m   1566\u001b[0m             \u001b[0mself\u001b[0m\u001b[0;34m.\u001b[0m\u001b[0mlabel\u001b[0m\u001b[0;34m.\u001b[0m\u001b[0mupdate\u001b[0m\u001b[0;34m(\u001b[0m\u001b[0mfontdict\u001b[0m\u001b[0;34m)\u001b[0m\u001b[0;34m\u001b[0m\u001b[0;34m\u001b[0m\u001b[0m\n\u001b[0;32m-> 1567\u001b[0;31m         \u001b[0mself\u001b[0m\u001b[0;34m.\u001b[0m\u001b[0mlabel\u001b[0m\u001b[0;34m.\u001b[0m\u001b[0mupdate\u001b[0m\u001b[0;34m(\u001b[0m\u001b[0mkwargs\u001b[0m\u001b[0;34m)\u001b[0m\u001b[0;34m\u001b[0m\u001b[0;34m\u001b[0m\u001b[0m\n\u001b[0m\u001b[1;32m   1568\u001b[0m         \u001b[0mself\u001b[0m\u001b[0;34m.\u001b[0m\u001b[0mstale\u001b[0m \u001b[0;34m=\u001b[0m \u001b[0;32mTrue\u001b[0m\u001b[0;34m\u001b[0m\u001b[0;34m\u001b[0m\u001b[0m\n\u001b[1;32m   1569\u001b[0m         \u001b[0;32mreturn\u001b[0m \u001b[0mself\u001b[0m\u001b[0;34m.\u001b[0m\u001b[0mlabel\u001b[0m\u001b[0;34m\u001b[0m\u001b[0;34m\u001b[0m\u001b[0m\n",
      "\u001b[0;32m~/anaconda3/lib/python3.7/site-packages/matplotlib/text.py\u001b[0m in \u001b[0;36mupdate\u001b[0;34m(self, kwargs)\u001b[0m\n\u001b[1;32m    185\u001b[0m         \u001b[0msentinel\u001b[0m \u001b[0;34m=\u001b[0m \u001b[0mobject\u001b[0m\u001b[0;34m(\u001b[0m\u001b[0;34m)\u001b[0m  \u001b[0;31m# bbox can be None, so use another sentinel.\u001b[0m\u001b[0;34m\u001b[0m\u001b[0;34m\u001b[0m\u001b[0m\n\u001b[1;32m    186\u001b[0m         \u001b[0mbbox\u001b[0m \u001b[0;34m=\u001b[0m \u001b[0mkwargs\u001b[0m\u001b[0;34m.\u001b[0m\u001b[0mpop\u001b[0m\u001b[0;34m(\u001b[0m\u001b[0;34m\"bbox\"\u001b[0m\u001b[0;34m,\u001b[0m \u001b[0msentinel\u001b[0m\u001b[0;34m)\u001b[0m\u001b[0;34m\u001b[0m\u001b[0;34m\u001b[0m\u001b[0m\n\u001b[0;32m--> 187\u001b[0;31m         \u001b[0msuper\u001b[0m\u001b[0;34m(\u001b[0m\u001b[0;34m)\u001b[0m\u001b[0;34m.\u001b[0m\u001b[0mupdate\u001b[0m\u001b[0;34m(\u001b[0m\u001b[0mkwargs\u001b[0m\u001b[0;34m)\u001b[0m\u001b[0;34m\u001b[0m\u001b[0;34m\u001b[0m\u001b[0m\n\u001b[0m\u001b[1;32m    188\u001b[0m         \u001b[0;32mif\u001b[0m \u001b[0mbbox\u001b[0m \u001b[0;32mis\u001b[0m \u001b[0;32mnot\u001b[0m \u001b[0msentinel\u001b[0m\u001b[0;34m:\u001b[0m\u001b[0;34m\u001b[0m\u001b[0;34m\u001b[0m\u001b[0m\n\u001b[1;32m    189\u001b[0m             \u001b[0mself\u001b[0m\u001b[0;34m.\u001b[0m\u001b[0mset_bbox\u001b[0m\u001b[0;34m(\u001b[0m\u001b[0mbbox\u001b[0m\u001b[0;34m)\u001b[0m\u001b[0;34m\u001b[0m\u001b[0;34m\u001b[0m\u001b[0m\n",
      "\u001b[0;32m~/anaconda3/lib/python3.7/site-packages/matplotlib/artist.py\u001b[0m in \u001b[0;36mupdate\u001b[0;34m(self, props)\u001b[0m\n\u001b[1;32m    914\u001b[0m \u001b[0;34m\u001b[0m\u001b[0m\n\u001b[1;32m    915\u001b[0m         \u001b[0;32mwith\u001b[0m \u001b[0mcbook\u001b[0m\u001b[0;34m.\u001b[0m\u001b[0m_setattr_cm\u001b[0m\u001b[0;34m(\u001b[0m\u001b[0mself\u001b[0m\u001b[0;34m,\u001b[0m \u001b[0meventson\u001b[0m\u001b[0;34m=\u001b[0m\u001b[0;32mFalse\u001b[0m\u001b[0;34m)\u001b[0m\u001b[0;34m:\u001b[0m\u001b[0;34m\u001b[0m\u001b[0;34m\u001b[0m\u001b[0m\n\u001b[0;32m--> 916\u001b[0;31m             \u001b[0mret\u001b[0m \u001b[0;34m=\u001b[0m \u001b[0;34m[\u001b[0m\u001b[0m_update_property\u001b[0m\u001b[0;34m(\u001b[0m\u001b[0mself\u001b[0m\u001b[0;34m,\u001b[0m \u001b[0mk\u001b[0m\u001b[0;34m,\u001b[0m \u001b[0mv\u001b[0m\u001b[0;34m)\u001b[0m \u001b[0;32mfor\u001b[0m \u001b[0mk\u001b[0m\u001b[0;34m,\u001b[0m \u001b[0mv\u001b[0m \u001b[0;32min\u001b[0m \u001b[0mprops\u001b[0m\u001b[0;34m.\u001b[0m\u001b[0mitems\u001b[0m\u001b[0;34m(\u001b[0m\u001b[0;34m)\u001b[0m\u001b[0;34m]\u001b[0m\u001b[0;34m\u001b[0m\u001b[0;34m\u001b[0m\u001b[0m\n\u001b[0m\u001b[1;32m    917\u001b[0m \u001b[0;34m\u001b[0m\u001b[0m\n\u001b[1;32m    918\u001b[0m         \u001b[0;32mif\u001b[0m \u001b[0mlen\u001b[0m\u001b[0;34m(\u001b[0m\u001b[0mret\u001b[0m\u001b[0;34m)\u001b[0m\u001b[0;34m:\u001b[0m\u001b[0;34m\u001b[0m\u001b[0;34m\u001b[0m\u001b[0m\n",
      "\u001b[0;32m~/anaconda3/lib/python3.7/site-packages/matplotlib/artist.py\u001b[0m in \u001b[0;36m<listcomp>\u001b[0;34m(.0)\u001b[0m\n\u001b[1;32m    914\u001b[0m \u001b[0;34m\u001b[0m\u001b[0m\n\u001b[1;32m    915\u001b[0m         \u001b[0;32mwith\u001b[0m \u001b[0mcbook\u001b[0m\u001b[0;34m.\u001b[0m\u001b[0m_setattr_cm\u001b[0m\u001b[0;34m(\u001b[0m\u001b[0mself\u001b[0m\u001b[0;34m,\u001b[0m \u001b[0meventson\u001b[0m\u001b[0;34m=\u001b[0m\u001b[0;32mFalse\u001b[0m\u001b[0;34m)\u001b[0m\u001b[0;34m:\u001b[0m\u001b[0;34m\u001b[0m\u001b[0;34m\u001b[0m\u001b[0m\n\u001b[0;32m--> 916\u001b[0;31m             \u001b[0mret\u001b[0m \u001b[0;34m=\u001b[0m \u001b[0;34m[\u001b[0m\u001b[0m_update_property\u001b[0m\u001b[0;34m(\u001b[0m\u001b[0mself\u001b[0m\u001b[0;34m,\u001b[0m \u001b[0mk\u001b[0m\u001b[0;34m,\u001b[0m \u001b[0mv\u001b[0m\u001b[0;34m)\u001b[0m \u001b[0;32mfor\u001b[0m \u001b[0mk\u001b[0m\u001b[0;34m,\u001b[0m \u001b[0mv\u001b[0m \u001b[0;32min\u001b[0m \u001b[0mprops\u001b[0m\u001b[0;34m.\u001b[0m\u001b[0mitems\u001b[0m\u001b[0;34m(\u001b[0m\u001b[0;34m)\u001b[0m\u001b[0;34m]\u001b[0m\u001b[0;34m\u001b[0m\u001b[0;34m\u001b[0m\u001b[0m\n\u001b[0m\u001b[1;32m    917\u001b[0m \u001b[0;34m\u001b[0m\u001b[0m\n\u001b[1;32m    918\u001b[0m         \u001b[0;32mif\u001b[0m \u001b[0mlen\u001b[0m\u001b[0;34m(\u001b[0m\u001b[0mret\u001b[0m\u001b[0;34m)\u001b[0m\u001b[0;34m:\u001b[0m\u001b[0;34m\u001b[0m\u001b[0;34m\u001b[0m\u001b[0m\n",
      "\u001b[0;32m~/anaconda3/lib/python3.7/site-packages/matplotlib/artist.py\u001b[0m in \u001b[0;36m_update_property\u001b[0;34m(self, k, v)\u001b[0m\n\u001b[1;32m    910\u001b[0m                 \u001b[0mfunc\u001b[0m \u001b[0;34m=\u001b[0m \u001b[0mgetattr\u001b[0m\u001b[0;34m(\u001b[0m\u001b[0mself\u001b[0m\u001b[0;34m,\u001b[0m \u001b[0;34m'set_'\u001b[0m \u001b[0;34m+\u001b[0m \u001b[0mk\u001b[0m\u001b[0;34m,\u001b[0m \u001b[0;32mNone\u001b[0m\u001b[0;34m)\u001b[0m\u001b[0;34m\u001b[0m\u001b[0;34m\u001b[0m\u001b[0m\n\u001b[1;32m    911\u001b[0m                 \u001b[0;32mif\u001b[0m \u001b[0;32mnot\u001b[0m \u001b[0mcallable\u001b[0m\u001b[0;34m(\u001b[0m\u001b[0mfunc\u001b[0m\u001b[0;34m)\u001b[0m\u001b[0;34m:\u001b[0m\u001b[0;34m\u001b[0m\u001b[0;34m\u001b[0m\u001b[0m\n\u001b[0;32m--> 912\u001b[0;31m                     \u001b[0;32mraise\u001b[0m \u001b[0mAttributeError\u001b[0m\u001b[0;34m(\u001b[0m\u001b[0;34m'Unknown property %s'\u001b[0m \u001b[0;34m%\u001b[0m \u001b[0mk\u001b[0m\u001b[0;34m)\u001b[0m\u001b[0;34m\u001b[0m\u001b[0;34m\u001b[0m\u001b[0m\n\u001b[0m\u001b[1;32m    913\u001b[0m                 \u001b[0;32mreturn\u001b[0m \u001b[0mfunc\u001b[0m\u001b[0;34m(\u001b[0m\u001b[0mv\u001b[0m\u001b[0;34m)\u001b[0m\u001b[0;34m\u001b[0m\u001b[0;34m\u001b[0m\u001b[0m\n\u001b[1;32m    914\u001b[0m \u001b[0;34m\u001b[0m\u001b[0m\n",
      "\u001b[0;31mAttributeError\u001b[0m: Unknown property data"
     ]
    },
    {
     "data": {
      "image/png": "[encoded data removed]",
      "text/plain": [
       "<Figure size 1008x504 with 1 Axes>"
      ]
     },
     "metadata": {
      "needs_background": "light"
     },
     "output_type": "display_data"
    }
   ],
   "source": [
    "import matplotlib.pyplot as plt\n",
    "\n",
    "plt.subplots(figsize=(14,7))\n",
    "sns.countplot('Type of breach',data=data2)\n",
    "plt.xlabel('Year of Breach',data=data2)\n",
    "plt.title('Total breaches by each year')\n",
    "plt.show()\n"
   ]
  },
  {
   "cell_type": "code",
   "execution_count": 11,
   "metadata": {},
   "outputs": [
    {
     "data": {
      "image/png": "[encoded data removed]",
      "text/plain": [
       "<Figure size 1080x432 with 1 Axes>"
      ]
     },
     "metadata": {
      "needs_background": "light"
     },
     "output_type": "display_data"
    }
   ],
   "source": [
    "plt.subplots(figsize=(15,6))\n",
    "sns.countplot('Type of breach',data=data2,palette='inferno',order=data2['Type of breach'].value_counts().index)\n",
    "plt.title('Types of breach')\n",
    "plt.xticks(rotation=90)\n",
    "plt.show()"
   ]
  },
  {
   "cell_type": "code",
   "execution_count": 12,
   "metadata": {},
   "outputs": [
    {
     "data": {
      "image/png": "[encoded data removed]",
      "text/plain": [
       "<Figure size 720x576 with 1 Axes>"
      ]
     },
     "metadata": {
      "needs_background": "light"
     },
     "output_type": "display_data"
    }
   ],
   "source": [
    "sns.barplot(data2['Type of breach'].value_counts()[1:15].values,data2['Type of breach'].value_counts()[1:15].index,palette=('BrBG_r'))\n",
    "plt.xticks(rotation=90)\n",
    "plt.title('Highest breach')\n",
    "fig=plt.gcf()\n",
    "fig.set_size_inches(10,8)\n",
    "plt.show()\n"
   ]
  },
  {
   "cell_type": "code",
   "execution_count": null,
   "metadata": {},
   "outputs": [],
   "source": []
  },
  {
   "cell_type": "code",
   "execution_count": null,
   "metadata": {},
   "outputs": [],
   "source": []
  },
  {
   "cell_type": "code",
   "execution_count": null,
   "metadata": {},
   "outputs": [],
   "source": []
  },
  {
   "cell_type": "code",
   "execution_count": null,
   "metadata": {},
   "outputs": [],
   "source": []
  },
  {
   "cell_type": "code",
   "execution_count": null,
   "metadata": {},
   "outputs": [],
   "source": []
  },
  {
   "cell_type": "code",
   "execution_count": null,
   "metadata": {},
   "outputs": [],
   "source": []
  },
  {
   "cell_type": "code",
   "execution_count": null,
   "metadata": {},
   "outputs": [],
   "source": []
  },
  {
   "cell_type": "code",
   "execution_count": null,
   "metadata": {},
   "outputs": [],
   "source": []
  },
  {
   "cell_type": "code",
   "execution_count": null,
   "metadata": {},
   "outputs": [],
   "source": []
  },
  {
   "cell_type": "code",
   "execution_count": null,
   "metadata": {},
   "outputs": [],
   "source": []
  },
  {
   "cell_type": "code",
   "execution_count": null,
   "metadata": {},
   "outputs": [],
   "source": []
  },
  {
   "cell_type": "code",
   "execution_count": null,
   "metadata": {},
   "outputs": [],
   "source": []
  },
  {
   "cell_type": "code",
   "execution_count": null,
   "metadata": {},
   "outputs": [],
   "source": []
  },
  {
   "cell_type": "code",
   "execution_count": null,
   "metadata": {},
   "outputs": [],
   "source": []
  },
  {
   "cell_type": "code",
   "execution_count": null,
   "metadata": {},
   "outputs": [],
   "source": []
  },
  {
   "cell_type": "code",
   "execution_count": null,
   "metadata": {},
   "outputs": [],
   "source": []
  }
 ],
 "metadata": {
  "kernelspec": {
   "display_name": "Python 3",
   "language": "python",
   "name": "python3"
  },
  "language_info": {
   "codemirror_mode": {
    "name": "ipython",
    "version": 3
   },
   "file_extension": ".py",
   "mimetype": "text/x-python",
   "name": "python",
   "nbconvert_exporter": "python",
   "pygments_lexer": "ipython3",
   "version": "3.7.1"
  }
 },
 "nbformat": 4,
 "nbformat_minor": 2
}
