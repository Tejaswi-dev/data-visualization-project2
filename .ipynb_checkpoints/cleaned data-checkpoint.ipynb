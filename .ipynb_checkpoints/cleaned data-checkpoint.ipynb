{
 "cells": [
  {
   "cell_type": "code",
   "execution_count": 1,
   "metadata": {},
   "outputs": [],
   "source": [
    "# skipping warnings.\n",
    "import warnings\n",
    "warnings.filterwarnings('ignore')"
   ]
  },
  {
   "cell_type": "code",
   "execution_count": 2,
   "metadata": {},
   "outputs": [],
   "source": [
    "#Importing the libraries\n",
    "import pandas as pd\n",
    "import numpy as np\n",
    "import seaborn as sns\n",
    "import matplotlib.pyplot as plt\n",
    "plt.style.use('seaborn-colorblind')\n"
   ]
  },
  {
   "cell_type": "code",
   "execution_count": 3,
   "metadata": {},
   "outputs": [
    {
     "data": {
      "text/html": [
       "<div>\n",
       "<style scoped>\n",
       "    .dataframe tbody tr th:only-of-type {\n",
       "        vertical-align: middle;\n",
       "    }\n",
       "\n",
       "    .dataframe tbody tr th {\n",
       "        vertical-align: top;\n",
       "    }\n",
       "\n",
       "    .dataframe thead th {\n",
       "        text-align: right;\n",
       "    }\n",
       "</style>\n",
       "<table border=\"1\" class=\"dataframe\">\n",
       "  <thead>\n",
       "    <tr style=\"text-align: right;\">\n",
       "      <th></th>\n",
       "      <th>Date Made Public</th>\n",
       "      <th>Company</th>\n",
       "      <th>City</th>\n",
       "      <th>State</th>\n",
       "      <th>Type of breach</th>\n",
       "      <th>Type of organization</th>\n",
       "      <th>Total Records</th>\n",
       "      <th>Description of incident</th>\n",
       "      <th>Information Source</th>\n",
       "      <th>Source URL</th>\n",
       "      <th>Year of Breach</th>\n",
       "      <th>Latitude</th>\n",
       "      <th>Longitude</th>\n",
       "    </tr>\n",
       "  </thead>\n",
       "  <tbody>\n",
       "    <tr>\n",
       "      <th>0</th>\n",
       "      <td>October 21, 2009</td>\n",
       "      <td>Bullitt County Public Schools</td>\n",
       "      <td>Shepherdsville</td>\n",
       "      <td>Kentucky</td>\n",
       "      <td>DISC</td>\n",
       "      <td>EDU</td>\n",
       "      <td>676</td>\n",
       "      <td>A Bullitt County Public Schools \\n            ...</td>\n",
       "      <td>Dataloss DB</td>\n",
       "      <td>NaN</td>\n",
       "      <td>2009</td>\n",
       "      <td>37.988399</td>\n",
       "      <td>-85.715792</td>\n",
       "    </tr>\n",
       "    <tr>\n",
       "      <th>1</th>\n",
       "      <td>October 21, 2009</td>\n",
       "      <td>Roane State Community College</td>\n",
       "      <td>Harriman</td>\n",
       "      <td>Tennessee</td>\n",
       "      <td>PORT</td>\n",
       "      <td>EDU</td>\n",
       "      <td>14,783</td>\n",
       "      <td>Roane State Community College \\n            ha...</td>\n",
       "      <td>Dataloss DB</td>\n",
       "      <td>NaN</td>\n",
       "      <td>2009</td>\n",
       "      <td>35.933964</td>\n",
       "      <td>-84.552436</td>\n",
       "    </tr>\n",
       "    <tr>\n",
       "      <th>2</th>\n",
       "      <td>October 15, 2009</td>\n",
       "      <td>Halifax Health</td>\n",
       "      <td>Daytona Beach</td>\n",
       "      <td>Florida</td>\n",
       "      <td>PORT</td>\n",
       "      <td>MED</td>\n",
       "      <td>33,000</td>\n",
       "      <td>A laptop computer from a Halifax \\n           ...</td>\n",
       "      <td>Dataloss DB</td>\n",
       "      <td>NaN</td>\n",
       "      <td>2009</td>\n",
       "      <td>29.210815</td>\n",
       "      <td>-81.022833</td>\n",
       "    </tr>\n",
       "    <tr>\n",
       "      <th>3</th>\n",
       "      <td>October 4, 2009</td>\n",
       "      <td>Suffolk Community College</td>\n",
       "      <td>Selden</td>\n",
       "      <td>New York</td>\n",
       "      <td>DISC</td>\n",
       "      <td>EDU</td>\n",
       "      <td>300</td>\n",
       "      <td>Suffolk Community College has \\n            ag...</td>\n",
       "      <td>Dataloss DB</td>\n",
       "      <td>NaN</td>\n",
       "      <td>2009</td>\n",
       "      <td>40.866487</td>\n",
       "      <td>-73.035663</td>\n",
       "    </tr>\n",
       "    <tr>\n",
       "      <th>4</th>\n",
       "      <td>September 28, 2009</td>\n",
       "      <td>Penrose Hospital</td>\n",
       "      <td>Colorado Springs</td>\n",
       "      <td>Colorado</td>\n",
       "      <td>PHYS</td>\n",
       "      <td>MED</td>\n",
       "      <td>175</td>\n",
       "      <td>Officials at Penrose Hospital              bel...</td>\n",
       "      <td>Dataloss DB</td>\n",
       "      <td>NaN</td>\n",
       "      <td>2009</td>\n",
       "      <td>38.833882</td>\n",
       "      <td>-104.821363</td>\n",
       "    </tr>\n",
       "  </tbody>\n",
       "</table>\n",
       "</div>"
      ],
      "text/plain": [
       "     Date Made Public                         Company              City  \\\n",
       "0    October 21, 2009   Bullitt County Public Schools    Shepherdsville   \n",
       "1    October 21, 2009  Roane State Community College           Harriman   \n",
       "2    October 15, 2009                  Halifax Health     Daytona Beach   \n",
       "3     October 4, 2009       Suffolk Community College            Selden   \n",
       "4  September 28, 2009                Penrose Hospital  Colorado Springs   \n",
       "\n",
       "       State Type of breach Type of organization Total Records  \\\n",
       "0   Kentucky           DISC                  EDU           676   \n",
       "1  Tennessee           PORT                  EDU        14,783   \n",
       "2    Florida           PORT                  MED        33,000   \n",
       "3   New York           DISC                  EDU           300   \n",
       "4   Colorado           PHYS                  MED           175   \n",
       "\n",
       "                             Description of incident Information Source  \\\n",
       "0  A Bullitt County Public Schools \\n            ...        Dataloss DB   \n",
       "1  Roane State Community College \\n            ha...        Dataloss DB   \n",
       "2  A laptop computer from a Halifax \\n           ...        Dataloss DB   \n",
       "3  Suffolk Community College has \\n            ag...        Dataloss DB   \n",
       "4  Officials at Penrose Hospital              bel...        Dataloss DB   \n",
       "\n",
       "  Source URL  Year of Breach   Latitude   Longitude  \n",
       "0        NaN            2009  37.988399  -85.715792  \n",
       "1        NaN            2009  35.933964  -84.552436  \n",
       "2        NaN            2009  29.210815  -81.022833  \n",
       "3        NaN            2009  40.866487  -73.035663  \n",
       "4        NaN            2009  38.833882 -104.821363  "
      ]
     },
     "execution_count": 3,
     "metadata": {},
     "output_type": "execute_result"
    }
   ],
   "source": [
    "#We will see the military spending data of G20 Countries\n",
    "#we took the data from this site \"https://www.sipri.org/databases/milex\"\n",
    "#Among csv,excel and other file formates i took excel which is flexible for me,\n",
    "#based on your convenience you can use better one.\n",
    "\n",
    "data = pd.read_csv(\"Privacy_Rights_Clearinghouse-Data-Breaches-Export.csv\")\n",
    "data.head()"
   ]
  },
  {
   "cell_type": "code",
   "execution_count": 4,
   "metadata": {},
   "outputs": [
    {
     "data": {
      "text/html": [
       "<div>\n",
       "<style scoped>\n",
       "    .dataframe tbody tr th:only-of-type {\n",
       "        vertical-align: middle;\n",
       "    }\n",
       "\n",
       "    .dataframe tbody tr th {\n",
       "        vertical-align: top;\n",
       "    }\n",
       "\n",
       "    .dataframe thead th {\n",
       "        text-align: right;\n",
       "    }\n",
       "</style>\n",
       "<table border=\"1\" class=\"dataframe\">\n",
       "  <thead>\n",
       "    <tr style=\"text-align: right;\">\n",
       "      <th></th>\n",
       "      <th>Date Made Public</th>\n",
       "      <th>Company</th>\n",
       "      <th>City</th>\n",
       "      <th>State</th>\n",
       "      <th>Type of breach</th>\n",
       "      <th>Type of organization</th>\n",
       "      <th>Total Records</th>\n",
       "      <th>Description of incident</th>\n",
       "      <th>Information Source</th>\n",
       "      <th>Source URL</th>\n",
       "      <th>Year of Breach</th>\n",
       "      <th>Latitude</th>\n",
       "      <th>Longitude</th>\n",
       "    </tr>\n",
       "  </thead>\n",
       "  <tbody>\n",
       "    <tr>\n",
       "      <th>2819</th>\n",
       "      <td>March 25, 2014</td>\n",
       "      <td>University of Kentucky HealthCare/Talyst</td>\n",
       "      <td>Lexington</td>\n",
       "      <td>Kentucky</td>\n",
       "      <td>PORT</td>\n",
       "      <td>MED</td>\n",
       "      <td>1,079</td>\n",
       "      <td>UK Healthcare is notifying 1,079 patients that...</td>\n",
       "      <td>Government Agency</td>\n",
       "      <td>https://ocrportal.hhs.gov/ocr/breach/breach_re...</td>\n",
       "      <td>2014</td>\n",
       "      <td>38.040584</td>\n",
       "      <td>-84.503716</td>\n",
       "    </tr>\n",
       "    <tr>\n",
       "      <th>3068</th>\n",
       "      <td>November 4, 2014</td>\n",
       "      <td>Hilton/Hilton Honors Program</td>\n",
       "      <td>McClean</td>\n",
       "      <td>Virginia</td>\n",
       "      <td>HACK</td>\n",
       "      <td>BSO</td>\n",
       "      <td>0</td>\n",
       "      <td>\"Hilton HHonors is at the center of a security...</td>\n",
       "      <td>Media</td>\n",
       "      <td>http://www.flyertalk.com/articles/hilton-hhono...</td>\n",
       "      <td>2014</td>\n",
       "      <td>38.933868</td>\n",
       "      <td>-77.177260</td>\n",
       "    </tr>\n",
       "    <tr>\n",
       "      <th>3092</th>\n",
       "      <td>January 1, 2015</td>\n",
       "      <td>Summit Financial Group</td>\n",
       "      <td>La Mesa</td>\n",
       "      <td>California</td>\n",
       "      <td>DISC</td>\n",
       "      <td>BSF</td>\n",
       "      <td>662</td>\n",
       "      <td>After a Summit client files a tax return, we m...</td>\n",
       "      <td>California Attorney General</td>\n",
       "      <td>https://oag.ca.gov/system/files/Sample%20Notic...</td>\n",
       "      <td>2015</td>\n",
       "      <td>32.767829</td>\n",
       "      <td>-117.023084</td>\n",
       "    </tr>\n",
       "    <tr>\n",
       "      <th>3099</th>\n",
       "      <td>July 2, 2015</td>\n",
       "      <td>Harvard University</td>\n",
       "      <td>Boston</td>\n",
       "      <td>Massachusetts</td>\n",
       "      <td>HACK</td>\n",
       "      <td>EDU</td>\n",
       "      <td>0</td>\n",
       "      <td>\"Last month Harvard University uncovered \"an i...</td>\n",
       "      <td>Media</td>\n",
       "      <td>http://fortune.com/2015/07/02/harvard-data-bre...</td>\n",
       "      <td>2015</td>\n",
       "      <td>42.360083</td>\n",
       "      <td>-71.058880</td>\n",
       "    </tr>\n",
       "    <tr>\n",
       "      <th>3101</th>\n",
       "      <td>May 5, 2016</td>\n",
       "      <td>ADP, LLC.</td>\n",
       "      <td>Roseland</td>\n",
       "      <td>New Jersey</td>\n",
       "      <td>HACK</td>\n",
       "      <td>BSF</td>\n",
       "      <td>0</td>\n",
       "      <td>\"Identity thieves have their hands on a new ba...</td>\n",
       "      <td>Media</td>\n",
       "      <td>http://www.bankrate.com/financing/taxes/adp-w-...</td>\n",
       "      <td>2016</td>\n",
       "      <td>40.820656</td>\n",
       "      <td>-74.293759</td>\n",
       "    </tr>\n",
       "  </tbody>\n",
       "</table>\n",
       "</div>"
      ],
      "text/plain": [
       "      Date Made Public                                   Company       City  \\\n",
       "2819    March 25, 2014  University of Kentucky HealthCare/Talyst  Lexington   \n",
       "3068  November 4, 2014              Hilton/Hilton Honors Program    McClean   \n",
       "3092   January 1, 2015                    Summit Financial Group    La Mesa   \n",
       "3099      July 2, 2015                        Harvard University     Boston   \n",
       "3101       May 5, 2016                                 ADP, LLC.   Roseland   \n",
       "\n",
       "              State Type of breach Type of organization Total Records  \\\n",
       "2819       Kentucky           PORT                  MED         1,079   \n",
       "3068       Virginia           HACK                  BSO             0   \n",
       "3092     California           DISC                  BSF           662   \n",
       "3099  Massachusetts           HACK                  EDU             0   \n",
       "3101     New Jersey           HACK                  BSF             0   \n",
       "\n",
       "                                Description of incident  \\\n",
       "2819  UK Healthcare is notifying 1,079 patients that...   \n",
       "3068  \"Hilton HHonors is at the center of a security...   \n",
       "3092  After a Summit client files a tax return, we m...   \n",
       "3099  \"Last month Harvard University uncovered \"an i...   \n",
       "3101  \"Identity thieves have their hands on a new ba...   \n",
       "\n",
       "               Information Source  \\\n",
       "2819            Government Agency   \n",
       "3068                        Media   \n",
       "3092  California Attorney General   \n",
       "3099                        Media   \n",
       "3101                        Media   \n",
       "\n",
       "                                             Source URL  Year of Breach  \\\n",
       "2819  https://ocrportal.hhs.gov/ocr/breach/breach_re...            2014   \n",
       "3068  http://www.flyertalk.com/articles/hilton-hhono...            2014   \n",
       "3092  https://oag.ca.gov/system/files/Sample%20Notic...            2015   \n",
       "3099  http://fortune.com/2015/07/02/harvard-data-bre...            2015   \n",
       "3101  http://www.bankrate.com/financing/taxes/adp-w-...            2016   \n",
       "\n",
       "       Latitude   Longitude  \n",
       "2819  38.040584  -84.503716  \n",
       "3068  38.933868  -77.177260  \n",
       "3092  32.767829 -117.023084  \n",
       "3099  42.360083  -71.058880  \n",
       "3101  40.820656  -74.293759  "
      ]
     },
     "execution_count": 4,
     "metadata": {},
     "output_type": "execute_result"
    }
   ],
   "source": [
    "data= data.dropna(axis = 0, how ='any') \n",
    "data.head()"
   ]
  },
  {
   "cell_type": "code",
   "execution_count": 5,
   "metadata": {},
   "outputs": [
    {
     "data": {
      "text/plain": [
       "Date Made Public           0\n",
       "Company                    0\n",
       "City                       0\n",
       "State                      0\n",
       "Type of breach             0\n",
       "Type of organization       0\n",
       "Total Records              0\n",
       "Description of incident    0\n",
       "Information Source         0\n",
       "Source URL                 0\n",
       "Year of Breach             0\n",
       "Latitude                   0\n",
       "Longitude                  0\n",
       "dtype: int64"
      ]
     },
     "execution_count": 5,
     "metadata": {},
     "output_type": "execute_result"
    }
   ],
   "source": [
    "#Checking  for  count of NA's\n",
    "data.isna().sum()"
   ]
  },
  {
   "cell_type": "code",
   "execution_count": 6,
   "metadata": {},
   "outputs": [
    {
     "data": {
      "text/html": [
       "<div>\n",
       "<style scoped>\n",
       "    .dataframe tbody tr th:only-of-type {\n",
       "        vertical-align: middle;\n",
       "    }\n",
       "\n",
       "    .dataframe tbody tr th {\n",
       "        vertical-align: top;\n",
       "    }\n",
       "\n",
       "    .dataframe thead th {\n",
       "        text-align: right;\n",
       "    }\n",
       "</style>\n",
       "<table border=\"1\" class=\"dataframe\">\n",
       "  <thead>\n",
       "    <tr style=\"text-align: right;\">\n",
       "      <th></th>\n",
       "      <th>Year of Breach</th>\n",
       "      <th>Latitude</th>\n",
       "      <th>Longitude</th>\n",
       "    </tr>\n",
       "  </thead>\n",
       "  <tbody>\n",
       "    <tr>\n",
       "      <th>count</th>\n",
       "      <td>363.000000</td>\n",
       "      <td>363.000000</td>\n",
       "      <td>363.000000</td>\n",
       "    </tr>\n",
       "    <tr>\n",
       "      <th>mean</th>\n",
       "      <td>2016.137741</td>\n",
       "      <td>36.892111</td>\n",
       "      <td>-91.429374</td>\n",
       "    </tr>\n",
       "    <tr>\n",
       "      <th>std</th>\n",
       "      <td>1.467053</td>\n",
       "      <td>8.042697</td>\n",
       "      <td>28.030586</td>\n",
       "    </tr>\n",
       "    <tr>\n",
       "      <th>min</th>\n",
       "      <td>2010.000000</td>\n",
       "      <td>0.000000</td>\n",
       "      <td>-158.009167</td>\n",
       "    </tr>\n",
       "    <tr>\n",
       "      <th>25%</th>\n",
       "      <td>2014.000000</td>\n",
       "      <td>34.052234</td>\n",
       "      <td>-117.282680</td>\n",
       "    </tr>\n",
       "    <tr>\n",
       "      <th>50%</th>\n",
       "      <td>2017.000000</td>\n",
       "      <td>38.713107</td>\n",
       "      <td>-88.029776</td>\n",
       "    </tr>\n",
       "    <tr>\n",
       "      <th>75%</th>\n",
       "      <td>2017.000000</td>\n",
       "      <td>40.721513</td>\n",
       "      <td>-77.000258</td>\n",
       "    </tr>\n",
       "    <tr>\n",
       "      <th>max</th>\n",
       "      <td>2018.000000</td>\n",
       "      <td>61.218056</td>\n",
       "      <td>114.057865</td>\n",
       "    </tr>\n",
       "  </tbody>\n",
       "</table>\n",
       "</div>"
      ],
      "text/plain": [
       "       Year of Breach    Latitude   Longitude\n",
       "count      363.000000  363.000000  363.000000\n",
       "mean      2016.137741   36.892111  -91.429374\n",
       "std          1.467053    8.042697   28.030586\n",
       "min       2010.000000    0.000000 -158.009167\n",
       "25%       2014.000000   34.052234 -117.282680\n",
       "50%       2017.000000   38.713107  -88.029776\n",
       "75%       2017.000000   40.721513  -77.000258\n",
       "max       2018.000000   61.218056  114.057865"
      ]
     },
     "execution_count": 6,
     "metadata": {},
     "output_type": "execute_result"
    }
   ],
   "source": [
    "data.describe()"
   ]
  },
  {
   "cell_type": "code",
   "execution_count": 7,
   "metadata": {},
   "outputs": [
    {
     "data": {
      "text/plain": [
       "(363, 13)"
      ]
     },
     "execution_count": 7,
     "metadata": {},
     "output_type": "execute_result"
    }
   ],
   "source": [
    "data.shape"
   ]
  },
  {
   "cell_type": "code",
   "execution_count": 8,
   "metadata": {},
   "outputs": [],
   "source": [
    "# To check the which year has many number of breachs"
   ]
  },
  {
   "cell_type": "code",
   "execution_count": 9,
   "metadata": {},
   "outputs": [
    {
     "data": {
      "text/plain": [
       "Text(0.5, 1.0, 'Distribution of breachs by year')"
      ]
     },
     "execution_count": 9,
     "metadata": {},
     "output_type": "execute_result"
    },
    {
     "data": {
      "image/png": "[encoded data removed]",
      "text/plain": [
       "<Figure size 432x288 with 1 Axes>"
      ]
     },
     "metadata": {
      "needs_background": "light"
     },
     "output_type": "display_data"
    }
   ],
   "source": [
    "plt.hist(data[\"Year of Breach\"]);\n",
    "plt.ylabel(\"Count of breachs\")\n",
    "plt.xlabel(\"Year of breachs\")\n",
    "plt.title(\"Distribution of breachs by year\")"
   ]
  },
  {
   "cell_type": "code",
   "execution_count": 10,
   "metadata": {},
   "outputs": [],
   "source": [
    "#To see the Highest breach based on the data from years (2009-2018)"
   ]
  },
  {
   "cell_type": "code",
   "execution_count": 11,
   "metadata": {},
   "outputs": [
    {
     "data": {
      "text/plain": [
       "Text(0, 0.5, 'Count')"
      ]
     },
     "execution_count": 11,
     "metadata": {},
     "output_type": "execute_result"
    },
    {
     "data": {
      "image/png": "[encoded data removed]",
      "text/plain": [
       "<Figure size 432x288 with 1 Axes>"
      ]
     },
     "metadata": {
      "needs_background": "light"
     },
     "output_type": "display_data"
    }
   ],
   "source": [
    "data['Type of breach'].value_counts().plot(kind='bar')\n",
    "plt.title(\"Count of breachs types\")\n",
    "plt.xlabel(\"Breach Type\")\n",
    "plt.ylabel(\"Count\")"
   ]
  },
  {
   "cell_type": "code",
   "execution_count": 12,
   "metadata": {},
   "outputs": [],
   "source": [
    "#Looking at the type of breach based on company"
   ]
  },
  {
   "cell_type": "code",
   "execution_count": 13,
   "metadata": {},
   "outputs": [
    {
     "data": {
      "text/plain": [
       "Company\n",
       "Monticello Central School District                                                          UNKN\n",
       "Northeast Arc                                                                               UNKN\n",
       "Purdue university                                                                           UNKN\n",
       "Trinity college of nursing and health sciences                                              UNKN\n",
       "Mid-Atlantic Carpenters' Training Center                                                    UNKN\n",
       "Tio Networks                                                                                UNKN\n",
       "Employer Leasing Company                                                                    UNKN\n",
       "Westminster Ingleside King Farm Presbyterian Retirement Communities, Inc.(Rockville, MD)    UNKN\n",
       "Central christian college of kansas                                                         UNKN\n",
       "Ocean Acquisitions, Inc.                                                                    PORT\n",
       "Penn Medicine                                                                               PORT\n",
       "University of Kentucky HealthCare/Talyst                                                    PORT\n",
       "Cohn Handles Sturm                                                                          PORT\n",
       "Nevro                                                                                       PHYS\n",
       "Aarow Equipment & Services Inc.                                                             PHYS\n",
       "Hamilton Zanze Real Estate Investments                                                      PHYS\n",
       "Tim McCoy & Associates DBA NEAT Management Group                                            PHYS\n",
       "University of Michigan/Michigan Medicine                                                    PHYS\n",
       "Ocean Acquisitions, Inc.                                                                    PHYS\n",
       "Oak Assosiates Funds                                                                        PHYS\n",
       "Greenleaf Book Group, LLC                                                                   PHYS\n",
       "Steven Yang, D.D.S., Inc.                                                                   PHYS\n",
       "Oregon Health & Science University                                                          PHYS\n",
       "Entercom Portland, LLC                                                                      PHYS\n",
       "Ameriprise Financial Services, Inc.                                                         PHYS\n",
       "Washington State University                                                                 PHYS\n",
       "Cheddar's Scratch Kitchen                                                                   PHYS\n",
       "The Arizona Department of Health Services                                                   PHYS\n",
       "Chapman University                                                                          PHYS\n",
       "Jeffrey Born, CPA, Inc.                                                                     PHYS\n",
       "                                                                                            ... \n",
       "Vine                                                                                        DISC\n",
       "Waipahu Aloha Clubhouse, Privacy Manager Breach                                             DISC\n",
       "Wells Fargo                                                                                 DISC\n",
       "YMCA of San Diego                                                                           DISC\n",
       "Rubin Lublin, LLC                                                                           DISC\n",
       "Oklahoma University                                                                         DISC\n",
       "Nielsen                                                                                     DISC\n",
       "MolinaHealthcare.com                                                                        DISC\n",
       "Corovan/Corodata/Klinger Moving                                                             DISC\n",
       "DXC Technology                                                                              DISC\n",
       "DaVita Healthcare Partners                                                                  DISC\n",
       "Deep Root Analytics                                                                         DISC\n",
       "Earbits.com                                                                                 DISC\n",
       "Ebay                                                                                        DISC\n",
       "Equals3                                                                                     DISC\n",
       "Erie County Office of Children and Youth                                                    DISC\n",
       "Exactis                                                                                     DISC\n",
       "Facebook, inc.                                                                              DISC\n",
       "HSBC SBN                                                                                    DISC\n",
       "Hubbard-Bert, Inc.                                                                          DISC\n",
       "ITA Group                                                                                   DISC\n",
       "Kaiser                                                                                      DISC\n",
       "LPL Financial LLC                                                                           DISC\n",
       "Linn County Auditor                                                                         DISC\n",
       "Los Angeles City Employees Retirement System                                                DISC\n",
       "Los Angeles County Department of Mental Health                                              DISC\n",
       "Main Department of Health and Human Services                                                DISC\n",
       "Miami Dade County School District                                                           DISC\n",
       "MindBody - FitMetrix                                                                        DISC\n",
       "211 LA County                                                                               DISC\n",
       "Name: Type of breach, Length: 354, dtype: object"
      ]
     },
     "execution_count": 13,
     "metadata": {},
     "output_type": "execute_result"
    }
   ],
   "source": [
    "breaches_by_group = data.groupby(\"Company\")[\"Type of breach\"].sum().sort_values(ascending=False)\n",
    "breaches_by_group"
   ]
  },
  {
   "cell_type": "code",
   "execution_count": 14,
   "metadata": {},
   "outputs": [],
   "source": [
    "#To check correlation between continuous variables"
   ]
  },
  {
   "cell_type": "code",
   "execution_count": 15,
   "metadata": {},
   "outputs": [
    {
     "data": {
      "image/png": "[encoded data removed]",
      "text/plain": [
       "<Figure size 576x576 with 2 Axes>"
      ]
     },
     "metadata": {
      "needs_background": "light"
     },
     "output_type": "display_data"
    }
   ],
   "source": [
    "plt.figure(figsize=(8,8))\n",
    "sns.heatmap(data.corr(),\n",
    "            linewidths=0.25,\n",
    "            square=True,\n",
    "            cmap='seismic',\n",
    "            linecolor='black',\n",
    "            annot=True);"
   ]
  },
  {
   "cell_type": "code",
   "execution_count": 16,
   "metadata": {},
   "outputs": [
    {
     "data": {
      "image/png": "[encoded data removed]",
      "text/plain": [
       "<Figure size 504x504 with 1 Axes>"
      ]
     },
     "metadata": {
      "needs_background": "light"
     },
     "output_type": "display_data"
    }
   ],
   "source": [
    "data.plot(kind=\"scatter\",x='Longitude',y='Latitude',figsize=(7,7),alpha=0.4);"
   ]
  },
  {
   "cell_type": "code",
   "execution_count": 17,
   "metadata": {},
   "outputs": [],
   "source": [
    "#Total number of breachs happening in relation with year"
   ]
  },
  {
   "cell_type": "code",
   "execution_count": 18,
   "metadata": {},
   "outputs": [
    {
     "data": {
      "text/plain": [
       "Text(0.5, 1.0, 'Number of breachs based on year')"
      ]
     },
     "execution_count": 18,
     "metadata": {},
     "output_type": "execute_result"
    },
    {
     "data": {
      "image/png": "[encoded data removed]",
      "text/plain": [
       "<Figure size 432x288 with 1 Axes>"
      ]
     },
     "metadata": {
      "needs_background": "light"
     },
     "output_type": "display_data"
    }
   ],
   "source": [
    "plt.scatter(data['Type of breach'],data['Year of Breach'])\n",
    "plt.xlabel('Type of breach')\n",
    "plt.ylabel('Year of Breach')\n",
    "plt.title('Number of breachs based on year')"
   ]
  },
  {
   "cell_type": "code",
   "execution_count": 19,
   "metadata": {},
   "outputs": [
    {
     "data": {
      "image/png": "[encoded data removed]",
      "text/plain": [
       "<Figure size 504x504 with 1 Axes>"
      ]
     },
     "metadata": {
      "needs_background": "light"
     },
     "output_type": "display_data"
    }
   ],
   "source": [
    "data.plot(kind=\"scatter\",x='Longitude',y='Latitude',figsize=(7,7),alpha=0.4,s=data['Year of Breach']*1.5,\n",
    "           label='Year of Breach');"
   ]
  },
  {
   "cell_type": "code",
   "execution_count": 20,
   "metadata": {},
   "outputs": [
    {
     "data": {
      "text/plain": [
       "array(['Kentucky', 'Virginia', 'California', 'Massachusetts',\n",
       "       'New Jersey', 'British Columbia', 'Georgia', 'New York',\n",
       "       'Colorado', 'Connecticut', 'Quebec', 'Buckinghamshire', 'Berlin',\n",
       "       'Minnesota', 'Texas', 'Kansas', 'Missouri', 'Pennsylvania', 'Ohio',\n",
       "       'Illinois', 'Idaho', 'Hawaii', 'Maryland', 'Oregon', 'Tennessee',\n",
       "       'South Dakota', 'Florida', 'Iowa', 'Arizona', 'North Carolina',\n",
       "       'Nebraska', 'Oklahoma', 'Michigan', 'Indiana',\n",
       "       'District Of Columbia', 'Delaware', 'New Hampshire', 'Alabama',\n",
       "       'Nevada', 'Washington', 'South Carolina', 'Alaska', 'Utah',\n",
       "       'New Mexico', 'Arkansas', 'North Dakota', 'Wisconsin', 'Maine',\n",
       "       'Mississippi', 'Guangdong'], dtype=object)"
      ]
     },
     "execution_count": 20,
     "metadata": {},
     "output_type": "execute_result"
    }
   ],
   "source": [
    "data['State'].unique()"
   ]
  },
  {
   "cell_type": "code",
   "execution_count": 21,
   "metadata": {},
   "outputs": [
    {
     "data": {
      "text/html": [
       "<div>\n",
       "<style scoped>\n",
       "    .dataframe tbody tr th:only-of-type {\n",
       "        vertical-align: middle;\n",
       "    }\n",
       "\n",
       "    .dataframe tbody tr th {\n",
       "        vertical-align: top;\n",
       "    }\n",
       "\n",
       "    .dataframe thead th {\n",
       "        text-align: right;\n",
       "    }\n",
       "</style>\n",
       "<table border=\"1\" class=\"dataframe\">\n",
       "  <thead>\n",
       "    <tr style=\"text-align: right;\">\n",
       "      <th></th>\n",
       "      <th>Date Made Public</th>\n",
       "      <th>Company</th>\n",
       "      <th>City</th>\n",
       "      <th>Type of breach</th>\n",
       "      <th>Type of organization</th>\n",
       "      <th>Total Records</th>\n",
       "      <th>Description of incident</th>\n",
       "      <th>Information Source</th>\n",
       "      <th>Source URL</th>\n",
       "      <th>Year of Breach</th>\n",
       "      <th>Latitude</th>\n",
       "      <th>Longitude</th>\n",
       "    </tr>\n",
       "    <tr>\n",
       "      <th>State</th>\n",
       "      <th></th>\n",
       "      <th></th>\n",
       "      <th></th>\n",
       "      <th></th>\n",
       "      <th></th>\n",
       "      <th></th>\n",
       "      <th></th>\n",
       "      <th></th>\n",
       "      <th></th>\n",
       "      <th></th>\n",
       "      <th></th>\n",
       "      <th></th>\n",
       "    </tr>\n",
       "  </thead>\n",
       "  <tbody>\n",
       "    <tr>\n",
       "      <th>Kentucky</th>\n",
       "      <td>October 21, 2009</td>\n",
       "      <td>Bullitt County Public Schools</td>\n",
       "      <td>Shepherdsville</td>\n",
       "      <td>DISC</td>\n",
       "      <td>EDU</td>\n",
       "      <td>676</td>\n",
       "      <td>A Bullitt County Public Schools \\n            ...</td>\n",
       "      <td>Dataloss DB</td>\n",
       "      <td>NaN</td>\n",
       "      <td>2009</td>\n",
       "      <td>37.988399</td>\n",
       "      <td>-85.715792</td>\n",
       "    </tr>\n",
       "    <tr>\n",
       "      <th>Tennessee</th>\n",
       "      <td>October 21, 2009</td>\n",
       "      <td>Roane State Community College</td>\n",
       "      <td>Harriman</td>\n",
       "      <td>PORT</td>\n",
       "      <td>EDU</td>\n",
       "      <td>14,783</td>\n",
       "      <td>Roane State Community College \\n            ha...</td>\n",
       "      <td>Dataloss DB</td>\n",
       "      <td>NaN</td>\n",
       "      <td>2009</td>\n",
       "      <td>35.933964</td>\n",
       "      <td>-84.552436</td>\n",
       "    </tr>\n",
       "    <tr>\n",
       "      <th>Florida</th>\n",
       "      <td>October 15, 2009</td>\n",
       "      <td>Halifax Health</td>\n",
       "      <td>Daytona Beach</td>\n",
       "      <td>PORT</td>\n",
       "      <td>MED</td>\n",
       "      <td>33,000</td>\n",
       "      <td>A laptop computer from a Halifax \\n           ...</td>\n",
       "      <td>Dataloss DB</td>\n",
       "      <td>NaN</td>\n",
       "      <td>2009</td>\n",
       "      <td>29.210815</td>\n",
       "      <td>-81.022833</td>\n",
       "    </tr>\n",
       "    <tr>\n",
       "      <th>New York</th>\n",
       "      <td>October 4, 2009</td>\n",
       "      <td>Suffolk Community College</td>\n",
       "      <td>Selden</td>\n",
       "      <td>DISC</td>\n",
       "      <td>EDU</td>\n",
       "      <td>300</td>\n",
       "      <td>Suffolk Community College has \\n            ag...</td>\n",
       "      <td>Dataloss DB</td>\n",
       "      <td>NaN</td>\n",
       "      <td>2009</td>\n",
       "      <td>40.866487</td>\n",
       "      <td>-73.035663</td>\n",
       "    </tr>\n",
       "    <tr>\n",
       "      <th>Colorado</th>\n",
       "      <td>September 28, 2009</td>\n",
       "      <td>Penrose Hospital</td>\n",
       "      <td>Colorado Springs</td>\n",
       "      <td>PHYS</td>\n",
       "      <td>MED</td>\n",
       "      <td>175</td>\n",
       "      <td>Officials at Penrose Hospital              bel...</td>\n",
       "      <td>Dataloss DB</td>\n",
       "      <td>NaN</td>\n",
       "      <td>2009</td>\n",
       "      <td>38.833882</td>\n",
       "      <td>-104.821363</td>\n",
       "    </tr>\n",
       "  </tbody>\n",
       "</table>\n",
       "</div>"
      ],
      "text/plain": [
       "             Date Made Public                         Company  \\\n",
       "State                                                           \n",
       "Kentucky     October 21, 2009   Bullitt County Public Schools   \n",
       "Tennessee    October 21, 2009  Roane State Community College    \n",
       "Florida      October 15, 2009                  Halifax Health   \n",
       "New York      October 4, 2009       Suffolk Community College   \n",
       "Colorado   September 28, 2009                Penrose Hospital   \n",
       "\n",
       "                       City Type of breach Type of organization Total Records  \\\n",
       "State                                                                           \n",
       "Kentucky     Shepherdsville           DISC                  EDU           676   \n",
       "Tennessee          Harriman           PORT                  EDU        14,783   \n",
       "Florida       Daytona Beach           PORT                  MED        33,000   \n",
       "New York             Selden           DISC                  EDU           300   \n",
       "Colorado   Colorado Springs           PHYS                  MED           175   \n",
       "\n",
       "                                     Description of incident  \\\n",
       "State                                                          \n",
       "Kentucky   A Bullitt County Public Schools \\n            ...   \n",
       "Tennessee  Roane State Community College \\n            ha...   \n",
       "Florida    A laptop computer from a Halifax \\n           ...   \n",
       "New York   Suffolk Community College has \\n            ag...   \n",
       "Colorado   Officials at Penrose Hospital              bel...   \n",
       "\n",
       "          Information Source Source URL  Year of Breach   Latitude   Longitude  \n",
       "State                                                                           \n",
       "Kentucky         Dataloss DB        NaN            2009  37.988399  -85.715792  \n",
       "Tennessee        Dataloss DB        NaN            2009  35.933964  -84.552436  \n",
       "Florida          Dataloss DB        NaN            2009  29.210815  -81.022833  \n",
       "New York         Dataloss DB        NaN            2009  40.866487  -73.035663  \n",
       "Colorado         Dataloss DB        NaN            2009  38.833882 -104.821363  "
      ]
     },
     "execution_count": 21,
     "metadata": {},
     "output_type": "execute_result"
    }
   ],
   "source": [
    "newdataset = pd.read_csv(\"first.csv\",index_col='State') \n",
    "newdataset.head()\n",
    "  "
   ]
  },
  {
   "cell_type": "code",
   "execution_count": 22,
   "metadata": {},
   "outputs": [],
   "source": [
    "newdataset.rename(index = {\"Kentucky\": \"US-KY\",\"Virginia\":\"US-VA\",\"California\":\"US-CA\",\n",
    "                            \"Massachusetts\":\"US-MA\",\"New Jersey\":\"US-NJ\",\"British Columbia\":\"CA-BC\",\n",
    "                             \"Georgia\":\"US-GA\",\"New York\":\"US-NY\",\"Colorado\":\"US-CO\",\"Connecticut\":\"US-CT\",\n",
    "                              \"Quebec\":\"CA-QC\",\"Buckinghamshire\":\"GB-BKM\",\"Berlin\":\"DE-BE\",\n",
    "                               \"Minnesota\":\"US-MN\",\"Texas\":\"US-TX\",\"Kansas\":\"US-KS\",\"Missouri\":\"US-MO\",\n",
    "                                \"Pennsylvania\":\"US-PA\",\"Ohio\":\"US-OH\",\"Illinois\":\"US-IL\",\"Idaho\":\"US-ID\",\n",
    "                                 \"Hawaii\":\"US-HI\",\"Maryland\":\"US-MD\",\"Oregon\":\"US-OR\",\"Tennessee\":\"US-TN\",\n",
    "                                  \"South Dakota\":\"US-SD\",\"Florida\":\"US-FL\",\"Iowa\":\"US-IA\",\"Arizona\":\"US-AZ\",\n",
    "                                   \"North Carolina\":\"US-NC\",\"Nebraska\":\"US-NE\",\"Oklahoma\":\"US-OK\",\n",
    "                                    \"Michigan\":\"US-MI\",\"Indiana\":\"US-IN\",\"District Of Columbia\":\"US-DC\",\n",
    "                                     \"Delaware\":\"US-DE\",\"New Hampshire\":\"US-NH\",\"Alabama\":\"US-AL\",\n",
    "                                      \"Nevada\":\"US-NV\",\"Washington\":\"US-WA\",\"South Carolina\":\"US-SC\",\n",
    "                                       \"Alaska\":\"US-AK\",\"Utah\":\"US-UT\",\"New Mexico\":\"US-NM\",\"Arkansas\":\"US-AR\",\n",
    "                                         \"North Dakota\":\"US-ND\",\"Wisconsin\":\"US-WI\",\"Maine\":\"US-ME\",\n",
    "                                          \"Mississippi\":\"US-MS\",\"Guangdong\":\"CN-GD\"},inplace = True)\n",
    "\n",
    "\n",
    "\n",
    "\n",
    "\n",
    "\n",
    "\n",
    "\n",
    "\n"
   ]
  },
  {
   "cell_type": "code",
   "execution_count": 23,
   "metadata": {},
   "outputs": [
    {
     "data": {
      "text/html": [
       "<div>\n",
       "<style scoped>\n",
       "    .dataframe tbody tr th:only-of-type {\n",
       "        vertical-align: middle;\n",
       "    }\n",
       "\n",
       "    .dataframe tbody tr th {\n",
       "        vertical-align: top;\n",
       "    }\n",
       "\n",
       "    .dataframe thead th {\n",
       "        text-align: right;\n",
       "    }\n",
       "</style>\n",
       "<table border=\"1\" class=\"dataframe\">\n",
       "  <thead>\n",
       "    <tr style=\"text-align: right;\">\n",
       "      <th></th>\n",
       "      <th>Date Made Public</th>\n",
       "      <th>Company</th>\n",
       "      <th>City</th>\n",
       "      <th>Type of breach</th>\n",
       "      <th>Type of organization</th>\n",
       "      <th>Total Records</th>\n",
       "      <th>Description of incident</th>\n",
       "      <th>Information Source</th>\n",
       "      <th>Source URL</th>\n",
       "      <th>Year of Breach</th>\n",
       "      <th>Latitude</th>\n",
       "      <th>Longitude</th>\n",
       "    </tr>\n",
       "    <tr>\n",
       "      <th>State</th>\n",
       "      <th></th>\n",
       "      <th></th>\n",
       "      <th></th>\n",
       "      <th></th>\n",
       "      <th></th>\n",
       "      <th></th>\n",
       "      <th></th>\n",
       "      <th></th>\n",
       "      <th></th>\n",
       "      <th></th>\n",
       "      <th></th>\n",
       "      <th></th>\n",
       "    </tr>\n",
       "  </thead>\n",
       "  <tbody>\n",
       "    <tr>\n",
       "      <th>US-KY</th>\n",
       "      <td>October 21, 2009</td>\n",
       "      <td>Bullitt County Public Schools</td>\n",
       "      <td>Shepherdsville</td>\n",
       "      <td>DISC</td>\n",
       "      <td>EDU</td>\n",
       "      <td>676</td>\n",
       "      <td>A Bullitt County Public Schools \\n            ...</td>\n",
       "      <td>Dataloss DB</td>\n",
       "      <td>NaN</td>\n",
       "      <td>2009</td>\n",
       "      <td>37.988399</td>\n",
       "      <td>-85.715792</td>\n",
       "    </tr>\n",
       "    <tr>\n",
       "      <th>US-TN</th>\n",
       "      <td>October 21, 2009</td>\n",
       "      <td>Roane State Community College</td>\n",
       "      <td>Harriman</td>\n",
       "      <td>PORT</td>\n",
       "      <td>EDU</td>\n",
       "      <td>14,783</td>\n",
       "      <td>Roane State Community College \\n            ha...</td>\n",
       "      <td>Dataloss DB</td>\n",
       "      <td>NaN</td>\n",
       "      <td>2009</td>\n",
       "      <td>35.933964</td>\n",
       "      <td>-84.552436</td>\n",
       "    </tr>\n",
       "    <tr>\n",
       "      <th>US-FL</th>\n",
       "      <td>October 15, 2009</td>\n",
       "      <td>Halifax Health</td>\n",
       "      <td>Daytona Beach</td>\n",
       "      <td>PORT</td>\n",
       "      <td>MED</td>\n",
       "      <td>33,000</td>\n",
       "      <td>A laptop computer from a Halifax \\n           ...</td>\n",
       "      <td>Dataloss DB</td>\n",
       "      <td>NaN</td>\n",
       "      <td>2009</td>\n",
       "      <td>29.210815</td>\n",
       "      <td>-81.022833</td>\n",
       "    </tr>\n",
       "    <tr>\n",
       "      <th>US-NY</th>\n",
       "      <td>October 4, 2009</td>\n",
       "      <td>Suffolk Community College</td>\n",
       "      <td>Selden</td>\n",
       "      <td>DISC</td>\n",
       "      <td>EDU</td>\n",
       "      <td>300</td>\n",
       "      <td>Suffolk Community College has \\n            ag...</td>\n",
       "      <td>Dataloss DB</td>\n",
       "      <td>NaN</td>\n",
       "      <td>2009</td>\n",
       "      <td>40.866487</td>\n",
       "      <td>-73.035663</td>\n",
       "    </tr>\n",
       "    <tr>\n",
       "      <th>US-CO</th>\n",
       "      <td>September 28, 2009</td>\n",
       "      <td>Penrose Hospital</td>\n",
       "      <td>Colorado Springs</td>\n",
       "      <td>PHYS</td>\n",
       "      <td>MED</td>\n",
       "      <td>175</td>\n",
       "      <td>Officials at Penrose Hospital              bel...</td>\n",
       "      <td>Dataloss DB</td>\n",
       "      <td>NaN</td>\n",
       "      <td>2009</td>\n",
       "      <td>38.833882</td>\n",
       "      <td>-104.821363</td>\n",
       "    </tr>\n",
       "  </tbody>\n",
       "</table>\n",
       "</div>"
      ],
      "text/plain": [
       "         Date Made Public                         Company              City  \\\n",
       "State                                                                         \n",
       "US-KY    October 21, 2009   Bullitt County Public Schools    Shepherdsville   \n",
       "US-TN    October 21, 2009  Roane State Community College           Harriman   \n",
       "US-FL    October 15, 2009                  Halifax Health     Daytona Beach   \n",
       "US-NY     October 4, 2009       Suffolk Community College            Selden   \n",
       "US-CO  September 28, 2009                Penrose Hospital  Colorado Springs   \n",
       "\n",
       "      Type of breach Type of organization Total Records  \\\n",
       "State                                                     \n",
       "US-KY           DISC                  EDU           676   \n",
       "US-TN           PORT                  EDU        14,783   \n",
       "US-FL           PORT                  MED        33,000   \n",
       "US-NY           DISC                  EDU           300   \n",
       "US-CO           PHYS                  MED           175   \n",
       "\n",
       "                                 Description of incident Information Source  \\\n",
       "State                                                                         \n",
       "US-KY  A Bullitt County Public Schools \\n            ...        Dataloss DB   \n",
       "US-TN  Roane State Community College \\n            ha...        Dataloss DB   \n",
       "US-FL  A laptop computer from a Halifax \\n           ...        Dataloss DB   \n",
       "US-NY  Suffolk Community College has \\n            ag...        Dataloss DB   \n",
       "US-CO  Officials at Penrose Hospital              bel...        Dataloss DB   \n",
       "\n",
       "      Source URL  Year of Breach   Latitude   Longitude  \n",
       "State                                                    \n",
       "US-KY        NaN            2009  37.988399  -85.715792  \n",
       "US-TN        NaN            2009  35.933964  -84.552436  \n",
       "US-FL        NaN            2009  29.210815  -81.022833  \n",
       "US-NY        NaN            2009  40.866487  -73.035663  \n",
       "US-CO        NaN            2009  38.833882 -104.821363  "
      ]
     },
     "execution_count": 23,
     "metadata": {},
     "output_type": "execute_result"
    }
   ],
   "source": [
    "newdataset.head()"
   ]
  },
  {
   "cell_type": "code",
   "execution_count": 24,
   "metadata": {},
   "outputs": [],
   "source": [
    "newdataset.to_csv(\"file_states.csv\")"
   ]
  },
  {
   "cell_type": "code",
   "execution_count": 25,
   "metadata": {},
   "outputs": [
    {
     "data": {
      "text/plain": [
       "State\n",
       "US-SC            84,00001,824305,60031,0002,600400,000357151,28...\n",
       "US-AR            807,000009,0002,48403,1161,10035,0007,0001,500...\n",
       "CA-QC                                                    800,00040\n",
       "US-KY            6765,0451002005,41824,60007092,0892,027772,631...\n",
       "US-ND              65010,000290,78065010,0002,0006002,45206001,813\n",
       "US-UT            6,000001,3000176,3003,20001,3003,8001,2902,480...\n",
       "US-ME            5978004,58500011779180005,100094103,0001,92050...\n",
       "US-ID                 59,0000300004410002,56205,5006,900025784,824\n",
       "US-MO            56575,00025024081,9071,4000750201,700006,03012...\n",
       "US-WI            500006006,400003060,0003,2881,60050079,0003,00...\n",
       "US-WA            5,000130,000400,00002100013509,49301,0171,0000...\n",
       "US-MI            45565005,00015000003,7000502,9796562,777032110...\n",
       "US-KS            45145001,20000010,00001,0007,1000390029,000001...\n",
       "Puerto Rico      406,0001,00022,56829,1431,6912,0005,0006051,90...\n",
       "CN-GD                                                       40,000\n",
       "US-IN            4,500500198,775865962050032,8422,0001,20000084...\n",
       "US-NC            4,40014,38030046305,0001,0001,0000001,1005,220...\n",
       "Ontario                              37,000,000000066,0006,000,000\n",
       "US-NM            36,00009,5003,8301,0003,00065001,537810100,000...\n",
       "US-FL            33,0002538,0002,82856,00010197,2000012,50008,0...\n",
       "US-CA            31,0001,0003,200001,000520053006001,5002003,50...\n",
       "US-NY            30045,27702,0000100,00080,00014,00043104500006...\n",
       "US-NJ            28,0000230025,00021,0000002004,58601,5001,7441...\n",
       "US-DC            27,0002,40048,000076,000,0001,60006061600378,0...\n",
       "Montana          26037,000002010000028,20937,0002,7007081,90054...\n",
       "US-OK            225,0001,000,00001,5004,5001604,4008,40000019,...\n",
       "US-TX            2,24609,30050001005001400206892001,27200000007...\n",
       "US-IL            2,100170187,000028,00063,000900602602450180,11...\n",
       "US-AK            2,00089,51956640040050102,74303,70005012,0001,...\n",
       "US-CO            175001,3001507660007,500105,47050700014200,000...\n",
       "                                       ...                        \n",
       "US-SD               118,5001,1008,50001,11113,0001,16810,00010,229\n",
       "US-CT            11,000065,00003,17805,00058,00010,1741,0006,37...\n",
       "Noord Holland                                                  106\n",
       "US-DE            103081047401,600,00074,000001,8831,67926,87301...\n",
       "US-MD            100,0008,000226292001,285003,00010010,20000170...\n",
       "US-PA            10,8681,0003034,00080,00094230,0003,097002611,...\n",
       "US-IA            1,60093,0003,4040080,00019,22201312230483,0003...\n",
       "Beijing                                                  1,600,000\n",
       "DE-BE                                                    1,503,710\n",
       "US-NE            1,4000225001,7164,300000003,000654,0001,872800...\n",
       "Wyoming          1,3259,0005,00015,0003,184015,0002,70011,9351,...\n",
       "US-GA            1,300099,000170,00005,000,0001,0000207,0000120...\n",
       "London                                                  1,290,0000\n",
       "US-NH            1,0005502,0000025131470231,400400077104,657231...\n",
       "US-AZ            07001,4381,10101,7001288,3002,28409805818,1811...\n",
       "West Virginia    05311,0003,6559502,50012,563046,9433,6551,4709...\n",
       "US-AL            037,000152,000040013,412004,5000001258,0003532...\n",
       "Vermont          03,0000114150012014,0001,3320014,2170350550000...\n",
       "US-OR            0200004,50019,000045034,0004,3281,536055050864...\n",
       "US-MS            014002,6721,1041,8141,4750010,0002,27919,00064...\n",
       "US-HI            01,8924,50015,48753,0002,0004,20040040,1010600...\n",
       "CA-BC                                                  001,600,000\n",
       "US-NV            0007,5260002093502,000000080000024,000,000002,...\n",
       "US-MA            000600001,0851,19135,00089139,0002005,4321,300...\n",
       "Louisiana        000030056,0009,475010,00003013,000001590017,13...\n",
       "GB-BKM                                                          00\n",
       "Cheshire                                                         0\n",
       "Dublin                                                           0\n",
       "Tokyo                                                            0\n",
       "Grand Bahama                                                     0\n",
       "Name: Total Records, Length: 65, dtype: object"
      ]
     },
     "metadata": {},
     "output_type": "display_data"
    }
   ],
   "source": [
    "newdataset = newdataset.groupby(\"State\")[\"Total Records\"].sum().sort_values(ascending=False)\n",
    "display(newdataset)\n"
   ]
  },
  {
   "cell_type": "code",
   "execution_count": 26,
   "metadata": {},
   "outputs": [],
   "source": [
    "newdataset.to_clipboard()"
   ]
  },
  {
   "cell_type": "code",
   "execution_count": null,
   "metadata": {},
   "outputs": [],
   "source": []
  },
  {
   "cell_type": "code",
   "execution_count": null,
   "metadata": {},
   "outputs": [],
   "source": []
  }
 ],
 "metadata": {
  "kernelspec": {
   "display_name": "Python 3",
   "language": "python",
   "name": "python3"
  },
  "language_info": {
   "codemirror_mode": {
    "name": "ipython",
    "version": 3
   },
   "file_extension": ".py",
   "mimetype": "text/x-python",
   "name": "python",
   "nbconvert_exporter": "python",
   "pygments_lexer": "ipython3",
   "version": "3.7.1"
  }
 },
 "nbformat": 4,
 "nbformat_minor": 2
}
